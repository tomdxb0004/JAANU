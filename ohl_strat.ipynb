{
 "cells": [
  {
   "cell_type": "code",
   "execution_count": 2,
   "metadata": {},
   "outputs": [],
   "source": [
    "import pandas as pd\n",
    "import numpy as np\n",
    "import os\n",
    "from sklearn.preprocessing import LabelEncoder\n"
   ]
  },
  {
   "cell_type": "code",
   "execution_count": 7,
   "metadata": {
    "tags": []
   },
   "outputs": [],
   "source": [
    "df = pd.read_csv('C:\\\\Users\\\\tomdx\\\\Documents\\\\GitHub\\\\stock\\\\data.csv')"
   ]
  },
  {
   "cell_type": "code",
   "execution_count": 7,
   "metadata": {},
   "outputs": [],
   "source": [
    " "
   ]
  },
  {
   "cell_type": "code",
   "execution_count": 8,
   "metadata": {},
   "outputs": [],
   "source": [
    "#remove encoding on deployment\n",
    "# check time and timezones \n",
    "le = LabelEncoder()\n",
    "dfx = df.copy()"
   ]
  },
  {
   "cell_type": "code",
   "execution_count": 9,
   "metadata": {},
   "outputs": [],
   "source": [
    "dfx['SYM'] = le.fit_transform(dfx['Symbol'])\n",
    "dfx.drop(columns=['Symbol'],inplace=True)"
   ]
  },
  {
   "cell_type": "code",
   "execution_count": 10,
   "metadata": {},
   "outputs": [],
   "source": [
    "for column in  dfx.select_dtypes(include='object').columns:\n",
    "     \n",
    "    \n",
    "    dfx[column] = dfx[column].apply(lambda x: x.replace(',',''))\n",
    "    dfx[column] = dfx[column].astype(float)"
   ]
  },
  {
   "cell_type": "code",
   "execution_count": 11,
   "metadata": {
    "tags": []
   },
   "outputs": [
    {
     "output_type": "stream",
     "name": "stdout",
     "text": "Wall time: 20.4 ms\nC:\\Users\\tomdx\\Anaconda3\\lib\\site-packages\\pandas\\core\\frame.py:4125: SettingWithCopyWarning: \nA value is trying to be set on a copy of a slice from a DataFrame\n\nSee the caveats in the documentation: https://pandas.pydata.org/pandas-docs/stable/user_guide/indexing.html#returning-a-view-versus-a-copy\n  return super().rename(\n"
    }
   ],
   "source": [
    "%%time\n",
    "#ohl candidates\n",
    "dfx.loc[(dfx['Open']==dfx['Low']),'action'] = 'B'\n",
    "dfx.loc[(dfx['Open']==dfx['High']),'action'] = 'S'\n",
    "ohl_cand = dfx.dropna(how='any')\n",
    "ohl_cand.rename(columns={'Last Traded Price':'LTP'},inplace=True)"
   ]
  },
  {
   "cell_type": "code",
   "execution_count": 13,
   "metadata": {
    "tags": []
   },
   "outputs": [
    {
     "output_type": "stream",
     "name": "stdout",
     "text": "# of s cands:  2\n# of b cands:  0\n"
    },
    {
     "output_type": "error",
     "ename": "NameError",
     "evalue": "name 'trend' is not defined",
     "traceback": [
      "\u001b[1;31m---------------------------------------------------------------------------\u001b[0m",
      "\u001b[1;31mNameError\u001b[0m                                 Traceback (most recent call last)",
      "\u001b[1;32m<ipython-input-13-693b2d097772>\u001b[0m in \u001b[0;36m<module>\u001b[1;34m\u001b[0m\n\u001b[0;32m     13\u001b[0m \u001b[0mprint\u001b[0m\u001b[1;33m(\u001b[0m\u001b[1;34m'# of b cands: '\u001b[0m\u001b[1;33m,\u001b[0m\u001b[0mnb\u001b[0m \u001b[1;33m)\u001b[0m\u001b[1;33m\u001b[0m\u001b[1;33m\u001b[0m\u001b[0m\n\u001b[0;32m     14\u001b[0m \u001b[1;33m\u001b[0m\u001b[0m\n\u001b[1;32m---> 15\u001b[1;33m \u001b[1;32mif\u001b[0m \u001b[0mtrend\u001b[0m \u001b[1;33m==\u001b[0m \u001b[1;34m'd'\u001b[0m\u001b[1;33m:\u001b[0m\u001b[1;33m\u001b[0m\u001b[1;33m\u001b[0m\u001b[0m\n\u001b[0m\u001b[0;32m     16\u001b[0m     \u001b[1;32mpass\u001b[0m\u001b[1;33m\u001b[0m\u001b[1;33m\u001b[0m\u001b[0m\n\u001b[0;32m     17\u001b[0m \u001b[1;33m\u001b[0m\u001b[0m\n",
      "\u001b[1;31mNameError\u001b[0m: name 'trend' is not defined"
     ]
    }
   ],
   "source": [
    "# for S\n",
    "best_s_candidates = ohl_cand[ohl_cand['action']=='S']\n",
    "best_s_candidates = ohl_cand[ohl_cand['%Change'] == ohl_cand['%Change'].max()]\n",
    "ns = len(best_s_candidates)\n",
    "print('# of s cands: ',ns)\n",
    "\n",
    "\n",
    "# for B\n",
    "best_b_candidates = ohl_cand[ohl_cand['%Change'] == ohl_cand['%Change'].min()]\n",
    "best_b_candidates = ohl_cand[ohl_cand['action']=='B']\n",
    "nb = len(best_b_candidates)\n",
    "\n",
    "print('# of b cands: ',nb )\n",
    "\n",
    "if trend == 'd':\n",
    "    pass \n",
    "    \n",
    "\n",
    "\n",
    "\n"
   ]
  },
  {
   "cell_type": "code",
   "execution_count": null,
   "metadata": {},
   "outputs": [],
   "source": [
    " "
   ]
  },
  {
   "cell_type": "code",
   "execution_count": 8,
   "metadata": {},
   "outputs": [],
   "source": [
    "#cap & alloc\n",
    "cap = 100000\n",
    " "
   ]
  },
  {
   "cell_type": "code",
   "execution_count": 9,
   "metadata": {},
   "outputs": [],
   "source": [
    "# qty\n",
    "def cap_split_allocate(cap,ltp):\n",
    "    cap /= 2\n",
    "    initial_allocation = cap\n",
    "    return round(initial_allocation/ltp,0)\n",
    "    "
   ]
  },
  {
   "cell_type": "code",
   "execution_count": null,
   "metadata": {},
   "outputs": [],
   "source": [
    " "
   ]
  },
  {
   "cell_type": "code",
   "execution_count": null,
   "metadata": {},
   "outputs": [],
   "source": [
    "\n",
    " "
   ]
  },
  {
   "cell_type": "code",
   "execution_count": null,
   "metadata": {},
   "outputs": [],
   "source": []
  },
  {
   "cell_type": "code",
   "execution_count": null,
   "metadata": {},
   "outputs": [],
   "source": []
  },
  {
   "cell_type": "code",
   "execution_count": null,
   "metadata": {},
   "outputs": [],
   "source": []
  },
  {
   "cell_type": "code",
   "execution_count": null,
   "metadata": {},
   "outputs": [],
   "source": []
  },
  {
   "cell_type": "code",
   "execution_count": null,
   "metadata": {},
   "outputs": [],
   "source": []
  },
  {
   "cell_type": "code",
   "execution_count": null,
   "metadata": {},
   "outputs": [],
   "source": []
  },
  {
   "cell_type": "code",
   "execution_count": null,
   "metadata": {},
   "outputs": [],
   "source": [
    " "
   ]
  },
  {
   "cell_type": "code",
   "execution_count": null,
   "metadata": {},
   "outputs": [],
   "source": []
  }
 ],
 "metadata": {
  "kernelspec": {
   "display_name": "Python 3",
   "language": "python",
   "name": "python3"
  },
  "language_info": {
   "codemirror_mode": {
    "name": "ipython",
    "version": 3
   },
   "file_extension": ".py",
   "mimetype": "text/x-python",
   "name": "python",
   "nbconvert_exporter": "python",
   "pygments_lexer": "ipython3",
   "version": "3.8.3-final"
  }
 },
 "nbformat": 4,
 "nbformat_minor": 2
}